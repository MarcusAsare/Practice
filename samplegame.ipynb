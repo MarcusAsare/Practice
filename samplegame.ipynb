{
 "cells": [
  {
   "cell_type": "code",
   "execution_count": 3,
   "id": "e1014a9b",
   "metadata": {},
   "outputs": [
    {
     "name": "stdout",
     "output_type": "stream",
     "text": [
      "Welcome to Marcus' game center! \n",
      "What is your name Marcus\n",
      "What is your age 89\n",
      "You are old enough to play! \n",
      "Do you want to play... (yes/no)yes\n",
      "Marcus you are starting with 10 health\n",
      "Let's play now! \n",
      "First choice... Left or Right (left/right)? left\n",
      "You followed the path and reached the lake... Do you swim across or around (across/around)? around\n",
      "You went around and reached the other side of the lake...\n",
      "You notice a house and a river.. Which one do you go to (river/house)? house\n",
      "You went to the house and was greated by the owner... He doesn't like you and you lost 5 health\n",
      "You have survived and you won...\n"
     ]
    }
   ],
   "source": [
    "print(\"Welcome to Marcus' game center! \")\n",
    "name = input(\"What is your name \")\n",
    "age = int(input(\"What is your age \"))\n",
    "\n",
    "Health = 10\n",
    "\n",
    "if age >= 18:\n",
    "    print(\"You are old enough to play! \")\n",
    "    \n",
    "    want_to_play = input(\"Do you want to play... (yes/no)\" ).lower()\n",
    "    if want_to_play == \"yes\":\n",
    "        print(name, \"you are starting with\", Health, \"health\" )\n",
    "        print(\"Let's play now! \")\n",
    "        \n",
    "        left_or_right = input(\"First choice... Left or Right (left/right)? \")\n",
    "        if left_or_right == \"left\":\n",
    "            ans = input(\"You followed the path and reached the lake... Do you swim across or around (across/around)? \")\n",
    "            if ans == \"around\":\n",
    "                print(\"You went around and reached the other side of the lake...\")\n",
    "            elif ans == \"across\":\n",
    "                print(\"You managed to get across, but you were bitten by a fish and lost 5 health \")\n",
    "                Health -= 5\n",
    "                \n",
    "                \n",
    "            ans = input(\"You notice a house and a river.. Which one do you go to (river/house)? \")\n",
    "            if ans == \"house\":\n",
    "                print(\"You went to the house and was greated by the owner... He doesn't like you and you lost 5 health\")\n",
    "                Health -= 5\n",
    "                \n",
    "                if Health <= 0:\n",
    "                    print(\"You have 0 health and you lost... \")\n",
    "                else:\n",
    "                    print(\"You have survived and you won...\")\n",
    "            else:\n",
    "                print(\"You fell into the river and lost... \")\n",
    "        else:\n",
    "            print(\"You fell and lost...\")\n",
    "    else:\n",
    "        print(\"Good bye...\")\n",
    "    \n",
    "else:\n",
    "    print(\"You are not old enough to play! \")"
   ]
  },
  {
   "cell_type": "code",
   "execution_count": null,
   "id": "1e04baa8",
   "metadata": {},
   "outputs": [],
   "source": []
  }
 ],
 "metadata": {
  "kernelspec": {
   "display_name": "Python 3 (ipykernel)",
   "language": "python",
   "name": "python3"
  },
  "language_info": {
   "codemirror_mode": {
    "name": "ipython",
    "version": 3
   },
   "file_extension": ".py",
   "mimetype": "text/x-python",
   "name": "python",
   "nbconvert_exporter": "python",
   "pygments_lexer": "ipython3",
   "version": "3.9.13"
  }
 },
 "nbformat": 4,
 "nbformat_minor": 5
}
